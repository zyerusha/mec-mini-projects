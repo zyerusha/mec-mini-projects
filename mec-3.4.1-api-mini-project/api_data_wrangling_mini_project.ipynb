{
 "cells": [
  {
   "cell_type": "markdown",
   "metadata": {},
   "source": [
    "This exercise will require you to pull some data from https://data.nasdaq.com/ (formerly Quandl API)."
   ]
  },
  {
   "cell_type": "markdown",
   "metadata": {},
   "source": [
    "As a first step, you will need to register a free account on the https://data.nasdaq.com/ website."
   ]
  },
  {
   "cell_type": "markdown",
   "metadata": {},
   "source": [
    "After you register, you will be provided with a unique API key, that you should store:\n",
    "\n",
    "*Note*: Use a `.env` file and put your key in there and `python-dotenv` to access it in this notebook. \n",
    "\n",
    "The code below uses a key that was used when generating this project but has since been deleted. Never submit your keys to source control. There is a `.env-example` file in this repository to illusrtate what you need. Copy that to a file called `.env` and use your own api key in that `.env` file. Make sure you also have a `.gitignore` file with a line for `.env` added to it. \n",
    "\n",
    "The standard Python gitignore is [here](https://github.com/github/gitignore/blob/master/Python.gitignore) you can just copy that. "
   ]
  },
  {
   "cell_type": "code",
   "execution_count": 5,
   "metadata": {},
   "outputs": [
    {
     "name": "stdout",
     "output_type": "stream",
     "text": [
      "yzTh15wPz51yzAbNtUzJ\n"
     ]
    }
   ],
   "source": [
    "# get api key from your .env file\n",
    "# import os\n",
    "# from dotenv import load_dotenv  # if missing this module, simply run `pip install python-dotenv`\n",
    "\n",
    "# load_dotenv()\n",
    "API_KEY = 'yzTh15wPz51yzAbNtUzJ';#os.getenv('NASDAQ_API_KEY')\n",
    "\n",
    "print(API_KEY)"
   ]
  },
  {
   "cell_type": "markdown",
   "metadata": {},
   "source": [
    "Nasdaq Data has a large number of data sources, but, unfortunately, most of them require a Premium subscription. Still, there are also a good number of free datasets."
   ]
  },
  {
   "cell_type": "markdown",
   "metadata": {},
   "source": [
    "For this mini project, we will focus on equities data from the Frankfurt Stock Exhange (FSE), which is available for free. We'll try and analyze the stock prices of a company called Carl Zeiss Meditec, which manufactures tools for eye examinations, as well as medical lasers for laser eye surgery: https://www.zeiss.com/meditec/int/home.html. The company is listed under the stock ticker AFX_X."
   ]
  },
  {
   "cell_type": "markdown",
   "metadata": {},
   "source": [
    "You can find the detailed Nasdaq Data API instructions here: https://docs.data.nasdaq.com/docs/in-depth-usage"
   ]
  },
  {
   "cell_type": "markdown",
   "metadata": {},
   "source": [
    "While there is a dedicated Python package for connecting to the Nasdaq API, we would prefer that you use the *requests* package, which can be easily downloaded using *pip* or *conda*. You can find the documentation for the package here: http://docs.python-requests.org/en/master/ "
   ]
  },
  {
   "cell_type": "markdown",
   "metadata": {},
   "source": [
    "Finally, apart from the *requests* package, you are encouraged to not use any third party Python packages, such as *pandas*, and instead focus on what's available in the Python Standard Library (the *collections* module might come in handy: https://pymotw.com/3/collections/).\n",
    "Also, since you won't have access to DataFrames, you are encouraged to us Python's native data structures - preferably dictionaries, though some questions can also be answered using lists.\n",
    "You can read more on these data structures here: https://docs.python.org/3/tutorial/datastructures.html"
   ]
  },
  {
   "cell_type": "markdown",
   "metadata": {},
   "source": [
    "Keep in mind that the JSON responses you will be getting from the API map almost one-to-one to Python's dictionaries. Unfortunately, they can be very nested, so make sure you read up on indexing dictionaries in the documentation provided above."
   ]
  },
  {
   "cell_type": "code",
   "execution_count": 6,
   "metadata": {},
   "outputs": [],
   "source": [
    "# First, import the relevant modules\n",
    "import requests\n",
    "import json"
   ]
  },
  {
   "cell_type": "markdown",
   "metadata": {},
   "source": [
    "Note: API's can change a bit with each version, for this exercise it is reccomended to use the nasdaq api at `https://data.nasdaq.com/api/v3/`. This is the same api as what used to be quandl so `https://www.quandl.com/api/v3/` should work too.\n",
    "\n",
    "Hint: We are looking for the `AFX_X` data on the `datasets/FSE/` dataset."
   ]
  },
  {
   "cell_type": "code",
   "execution_count": 7,
   "metadata": {},
   "outputs": [
    {
     "name": "stdout",
     "output_type": "stream",
     "text": [
      "{'dataset_data': {'limit': None, 'transform': None, 'column_index': None, 'column_names': ['Date', 'Open', 'High', 'Low', 'Close', 'Change', 'Traded Volume', 'Turnover', 'Last Price of the Day', 'Daily Traded Units', 'Daily Turnover'], 'start_date': '2020-01-01', 'end_date': '2020-01-04', 'frequency': 'daily', 'data': [['2020-01-03', 112.8, 113.4, 112.0, 113.4, None, 82304.0, 9289987.0, None, None, None], ['2020-01-02', 114.0, 114.9, 112.7, 113.8, None, 143464.0, 16291666.0, None, None, None]], 'collapse': None, 'order': None}}\n"
     ]
    }
   ],
   "source": [
    "# Now, call the Nasdaq API and pull out a small sample of the data (only one day) to get a glimpse\n",
    "# into the JSON structure that will be returned\n",
    "stock_data_url = 'https://www.quandl.com/api/v3/datasets/FSE/AFX_X/data.json'\n",
    "start_date = '2020-01-01'\n",
    "end_date = '2020-01-04'\n",
    "input_params = {'start_date' : start_date, 'end_date' : end_date, 'api_key' : API_KEY}\n",
    "r = requests.get(stock_data_url, params = input_params)\n",
    "print(r.json())"
   ]
  },
  {
   "cell_type": "code",
   "execution_count": 8,
   "metadata": {},
   "outputs": [],
   "source": [
    "# Inspect the JSON structure of the object you created, and take note of how nested it is,\n",
    "# as well as the overall structure"
   ]
  },
  {
   "cell_type": "markdown",
   "metadata": {},
   "source": [
    "These are your tasks for this mini project:\n",
    "\n",
    "1. Collect data from the Franfurt Stock Exchange, for the ticker AFX_X, for the whole year 2017 (keep in mind that the date format is YYYY-MM-DD).\n",
    "2. Convert the returned JSON object into a Python dictionary.\n",
    "3. Calculate what the highest and lowest opening prices were for the stock in this period.\n",
    "4. What was the largest change in any one day (based on High and Low price)?\n",
    "5. What was the largest change between any two days (based on Closing Price)?\n",
    "6. What was the average daily trading volume during this year?\n",
    "7. (Optional) What was the median trading volume during this year. (Note: you may need to implement your own function for calculating the median.)"
   ]
  },
  {
   "cell_type": "code",
   "execution_count": 9,
   "metadata": {},
   "outputs": [],
   "source": [
    "# Step 1: Collect data from the Franfurt Stock Exchange, for the ticker AFX_X\n",
    "\n",
    "import json\n",
    "\n",
    "stock_data_url = 'https://www.quandl.com/api/v3/datasets/FSE/AFX_X/data.json'\n",
    "start_date = '2017-01-01'\n",
    "end_date = '2017-12-31'\n",
    "input_params = {'start_date' : start_date, 'end_date' : end_date, 'api_key' : API_KEY}\n",
    "data = requests.get(stock_data_url, params = input_params).json()"
   ]
  },
  {
   "cell_type": "code",
   "execution_count": 10,
   "metadata": {},
   "outputs": [
    {
     "name": "stdout",
     "output_type": "stream",
     "text": [
      "column_names: ['Open', 'High', 'Low', 'Close', 'Change', 'Traded Volume', 'Turnover', 'Last Price of the Day', 'Daily Traded Units', 'Daily Turnover']\n"
     ]
    }
   ],
   "source": [
    "#Step 2: Convert the returned JSON object into a Python dictionary.\n",
    "data_list = data['dataset_data']['data']; #extracting data from the dataset\n",
    "column_names = data['dataset_data']['column_names'][1:];  #extracting from column_names info of that day\n",
    "print(\"column_names:\", column_names)\n",
    "\n",
    "#creating a dictionary where key = date, value = info of that day\n",
    "my_data_dict = {}\n",
    "DATE_IDX = 0\n",
    "for entry in data_list:\n",
    "    entry_date = entry[DATE_IDX]; # a date key\n",
    "    entry_data = entry[(DATE_IDX+1):] # all the day's info\n",
    "    my_data_dict[entry_date] = entry_data"
   ]
  },
  {
   "cell_type": "code",
   "execution_count": 11,
   "metadata": {},
   "outputs": [
    {
     "name": "stdout",
     "output_type": "stream",
     "text": [
      "max open: 53.110, min open: 34.000\n"
     ]
    }
   ],
   "source": [
    "#Step 3: Calculate what the highest and lowest opening prices were for the stock in this period.\n",
    "\n",
    "#initializing the max & min values\n",
    "max_open = -float(\"inf\")\n",
    "min_open = float(\"inf\");\n",
    "OPEN_IDX = 0 \n",
    "for k, v in my_data_dict.items():\n",
    "    if( str(v[OPEN_IDX]) != 'None'):  # ignore None value\n",
    "        open_val = float(v[OPEN_IDX]) \n",
    "    if(open_val > max_open):   # update max\n",
    "        max_open = open_val\n",
    "    if(open_val < min_open):   # update min\n",
    "        min_open = open_val\n",
    "print('max open: {:6.3f}, min open: {:6.3f}'.format(max_open,min_open))"
   ]
  },
  {
   "cell_type": "code",
   "execution_count": 12,
   "metadata": {},
   "outputs": [
    {
     "name": "stdout",
     "output_type": "stream",
     "text": [
      "max change:  2.810\n"
     ]
    }
   ],
   "source": [
    "#Step 4: What was the largest change in any one day (based on High and Low price)?\n",
    "HIGH_PRICE_IDX = 1\n",
    "LOW_PRICE_IDX = 2\n",
    "max_change = -float(\"inf\")\n",
    "for k, v in my_data_dict.items(): #scanning all days \n",
    "    good_val = (str(v[HIGH_PRICE_IDX]) != 'None') # ignore None value\n",
    "    good_val &= (str(v[LOW_PRICE_IDX]) != 'None') # ignore None value\n",
    "    good_val &= (v[HIGH_PRICE_IDX] > v[LOW_PRICE_IDX]) # data makes sense\n",
    "    \n",
    "    if(good_val):  \n",
    "        change = v[HIGH_PRICE_IDX] - v[LOW_PRICE_IDX]\n",
    "    if(change > max_change):   # update max\n",
    "        max_change = change\n",
    "\n",
    "print('max change: {:6.3f}'.format(max_change))"
   ]
  },
  {
   "cell_type": "code",
   "execution_count": 13,
   "metadata": {},
   "outputs": [
    {
     "name": "stdout",
     "output_type": "stream",
     "text": [
      "max change in closing price:  2.560\n"
     ]
    }
   ],
   "source": [
    "#Step 5: What was the largest change between any two days (based on Closing Price)?\n",
    "CLOSE_PRICE_IDX = 3\n",
    "max_change = -float(\"inf\")\n",
    "\n",
    "# dictionary needs sorting\n",
    "# sorted makes it a tuple, sort by first element (the key) \n",
    "sorted_keys = sorted(my_data_dict.items(), key = lambda kv: kv[0])\n",
    "\n",
    "my_data_dict_sorted = dict(sorted_keys)\n",
    "first_key_sorted = sorted_keys[0][DATE_IDX]\n",
    "prev_close = my_data_dict[first_key_sorted][CLOSE_PRICE_IDX] # closing price from first sorted key \n",
    "\n",
    "i = 0\n",
    "for item in my_data_dict.items(): #scanning all items\n",
    "    k = sorted_keys[i][DATE_IDX] # take the sorted key\n",
    "    v = my_data_dict[k] # take the sorted value\n",
    "    good_val = (str(v[CLOSE_PRICE_IDX]) != 'None') # ignore None value\n",
    "    \n",
    "    if(good_val):  \n",
    "        change = prev_close - v[CLOSE_PRICE_IDX]\n",
    "        \n",
    "    if(change > max_change):   # update max\n",
    "        max_change = change\n",
    "      \n",
    "\n",
    "    prev_close = v[CLOSE_PRICE_IDX] # update previous close\n",
    "    i += 1\n",
    "    \n",
    "print('max change in closing price: {:6.3f}'.format(max_change))"
   ]
  },
  {
   "cell_type": "code",
   "execution_count": 14,
   "metadata": {},
   "outputs": [
    {
     "name": "stdout",
     "output_type": "stream",
     "text": [
      "The average trading volume:  89124\n"
     ]
    }
   ],
   "source": [
    "#Step 6: What was the average daily trading volume during this year?\n",
    "VOL_IDX = 5\n",
    "vol_sum = 0\n",
    "for k, v in my_data_dict.items(): #scanning all items\n",
    "    good_val = (str(v[VOL_IDX]) != 'None') # ignore None value   \n",
    "    if(good_val):  \n",
    "        vol_sum += v[VOL_IDX]     \n",
    "\n",
    "volume_avg = vol_sum / len(my_data_dict.keys())\n",
    "print('The average trading volume: {:6.0f}'.format(volume_avg))"
   ]
  },
  {
   "cell_type": "code",
   "execution_count": 15,
   "metadata": {},
   "outputs": [
    {
     "name": "stdout",
     "output_type": "stream",
     "text": [
      "The median trading volume is:  76286\n"
     ]
    }
   ],
   "source": [
    "#Step 7: (Optional) What was the median trading volume during this year. (Note: you may need to implement your own function for calculating the median.)\n",
    "\n",
    "def find_median(array):\n",
    "    median = -1\n",
    "    array_sorted = sorted(array) # sort the array\n",
    "    cnt = int(len(array_sorted)) \n",
    "    half = int(cnt/2)\n",
    "    if((cnt % 2) == 0):\n",
    "        median = (array_sorted[half] + array_sorted[half-1])/2\n",
    "    else:\n",
    "        median = array_sorted[half]\n",
    "        \n",
    "    return median\n",
    "\n",
    "vol_list = [] # create a list of volumes\n",
    "for k, v in my_data_dict.items(): #scanning all items\n",
    "    good_val = (str(v[VOL_IDX]) != 'None') # ignore None value   \n",
    "    if(good_val):  \n",
    "        vol_list.append(v[VOL_IDX])  # add to list\n",
    "\n",
    "print(\"The median trading volume is: {:6.0f}\".format(find_median(vol_list)))\n"
   ]
  }
 ],
 "metadata": {
  "interpreter": {
   "hash": "27a7b810a4c8120f93ee5ce335f56b2053fed69f0f725b05dfb1fa66ed2c4f11"
  },
  "kernelspec": {
   "display_name": "Python 3.7.11 64-bit ('mec-miniprojects': conda)",
   "name": "python3"
  },
  "language_info": {
   "codemirror_mode": {
    "name": "ipython",
    "version": 3
   },
   "file_extension": ".py",
   "mimetype": "text/x-python",
   "name": "python",
   "nbconvert_exporter": "python",
   "pygments_lexer": "ipython3",
   "version": "3.7.11"
  }
 },
 "nbformat": 4,
 "nbformat_minor": 4
}
